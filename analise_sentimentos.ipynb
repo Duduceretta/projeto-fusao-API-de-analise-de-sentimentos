{
 "cells": [
  {
   "cell_type": "code",
   "execution_count": 1,
   "id": "2df926a9",
   "metadata": {},
   "outputs": [
    {
     "name": "stdout",
     "output_type": "stream",
     "text": [
      "sentimento\n",
      "positivo    0.647436\n",
      "negativo    0.265759\n",
      "neutro      0.086805\n",
      "Name: proportion, dtype: float64\n"
     ]
    }
   ],
   "source": [
    "import pandas as pd\n",
    "\n",
    "# Carregar os dados\n",
    "df_reviews = pd.read_csv('olist_order_reviews_dataset.csv')\n",
    "\n",
    "# Selecionar so as colunas que importam e remover dados faltantes\n",
    "df = df_reviews[['review_score', 'review_comment_message']].copy()\n",
    "# inplace serve para alterar os dados no df original (Fizemos uma copia)\n",
    "df.dropna(inplace=True)\n",
    "\n",
    "# Criar a coluna sentimento (queremos prever)\n",
    "def score_para_sentimento(score):\n",
    "    if score >= 4:\n",
    "        return 'positivo'\n",
    "    elif score <= 2:\n",
    "        return 'negativo'\n",
    "    else:\n",
    "        return 'neutro'\n",
    "\n",
    "# Bota os valores para sentimentos\n",
    "df['sentimento'] = df['review_score'].apply(score_para_sentimento)\n",
    "\n",
    "# Ver o balanceamento das classes\n",
    "print(df['sentimento'].value_counts(normalize=True))\n"
   ]
  },
  {
   "cell_type": "code",
   "execution_count": 2,
   "id": "88b46139",
   "metadata": {},
   "outputs": [],
   "source": [
    "# Dividir nosso dataset em conjuntos de treino e teste\n",
    "import sklearn\n",
    "from sklearn.model_selection import train_test_split\n",
    "\n",
    "x = df['review_comment_message'] # Os textos (dados de entrada)\n",
    "y = df['sentimento'] # As etiquetas (O que queremos prever)\n",
    "\n",
    "# stratify mantem o mesmo balanço de dados no treino e no teste, garante a proporção entre eles.\n",
    "# test_size = tamanho do banco para teste, o restante vai para treino\n",
    "# random_state = mantem a mesma divisao para treino e teste\n",
    "x_train, x_test, y_train, y_test = train_test_split(x, y, test_size=0.2, random_state=42, stratify=y)\n"
   ]
  },
  {
   "cell_type": "code",
   "execution_count": 3,
   "id": "80dd7115",
   "metadata": {},
   "outputs": [],
   "source": [
    "# Vetorização (Tradução humano -> Maquina)\n",
    "from sklearn.feature_extraction.text import TfidfVectorizer\n",
    "\n",
    "# Converte o texto em numeros\n",
    "vectorizer = TfidfVectorizer(max_features=5000)\n",
    "\n",
    "# Aprende o vocabularios com os dados de treino e os transforma\n",
    "# fit - aprende e cria um dicionario com cada palavra\n",
    "# transform - pega textos e usa o dicionario para converter cada texto em uma sequencia numerica\n",
    "x_train_vec = vectorizer.fit_transform(x_train)\n",
    "\n",
    "# Apenas transforma os dados de teste, usando o mesmo vocabulario aprendido\n",
    "# Cria uma \"prova\" com os novos dados\n",
    "# Pega os dados nao usados no teste, transforma novos textos em sequencias numericas\n",
    "# Para que com o aprendizado do modelo ele seja capaz de fazer esse teste\n",
    "x_test_vec = vectorizer.transform(x_test) "
   ]
  },
  {
   "cell_type": "code",
   "execution_count": 4,
   "id": "2b0835ea",
   "metadata": {},
   "outputs": [
    {
     "name": "stdout",
     "output_type": "stream",
     "text": [
      "              precision    recall  f1-score   support\n",
      "\n",
      "    negativo       0.77      0.86      0.81      2178\n",
      "      neutro       0.35      0.07      0.12       712\n",
      "    positivo       0.89      0.94      0.92      5306\n",
      "\n",
      "    accuracy                           0.84      8196\n",
      "   macro avg       0.67      0.62      0.62      8196\n",
      "weighted avg       0.81      0.84      0.82      8196\n",
      "\n"
     ]
    }
   ],
   "source": [
    "# Treinando e avaliando o modelo\n",
    "from sklearn.linear_model import LogisticRegression\n",
    "from sklearn.metrics import classification_report\n",
    "\n",
    "model = LogisticRegression(max_iter=1000)\n",
    "# Treinar com os dados de treino\n",
    "# To dando as pergunta e as resposta\n",
    "model.fit(x_train_vec, y_train)\n",
    "\n",
    "# Depois de treinar\n",
    "# Mede a previsao com o teste criado\n",
    "y_pred = model.predict(x_test_vec)\n",
    "\n",
    "print(classification_report(y_test, y_pred))\n",
    "\n",
    "# Precision - De tantas vezes que ele disse que era aquilo quantos % ele acertou\n",
    "# Recall - Do total de amostras que realmente são de uma classe, quantos % o modelo conseguiu encontrar/identificar\n",
    "# f1Score - Une precision e recall e faz uma media ponderada delas\n",
    "# Support - Tanto de amostras obtidas de cada 'sentimento'"
   ]
  },
  {
   "cell_type": "code",
   "execution_count": 5,
   "id": "c1b67dd2",
   "metadata": {},
   "outputs": [
    {
     "name": "stdout",
     "output_type": "stream",
     "text": [
      "Cerebro (modelo e vetorizador) salvos com sucesso!\n"
     ]
    }
   ],
   "source": [
    "# Salvando os modelos\n",
    "import joblib\n",
    "\n",
    "# Dicionario/Vocabulario\n",
    "joblib.dump(vectorizer, 'vetorizador.jolib')\n",
    "\n",
    "# Modelo que faz as previsoes\n",
    "joblib.dump(model, 'modelo.jolib')\n",
    "\n",
    "print(\"Cerebro (modelo e vetorizador) salvos com sucesso!\")"
   ]
  }
 ],
 "metadata": {
  "kernelspec": {
   "display_name": "Python 3",
   "language": "python",
   "name": "python3"
  },
  "language_info": {
   "codemirror_mode": {
    "name": "ipython",
    "version": 3
   },
   "file_extension": ".py",
   "mimetype": "text/x-python",
   "name": "python",
   "nbconvert_exporter": "python",
   "pygments_lexer": "ipython3",
   "version": "3.13.5"
  }
 },
 "nbformat": 4,
 "nbformat_minor": 5
}
